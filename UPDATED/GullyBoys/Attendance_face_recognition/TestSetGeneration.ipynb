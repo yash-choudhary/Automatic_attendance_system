{
 "cells": [
  {
   "cell_type": "markdown",
   "metadata": {},
   "source": [
    "**Note:** The test data should be of sufficiently high resolution if the training data is not."
   ]
  },
  {
   "cell_type": "code",
   "execution_count": null,
   "metadata": {},
   "outputs": [],
   "source": [
    "import math\n",
    "import time\n",
    "import cv2\n",
    "from sklearn import neighbors\n",
    "import numpy as np\n",
    "import pandas as pd\n",
    "import os\n",
    "import os.path\n",
    "import requests\n",
    "import pickle\n",
    "from PIL import Image, ImageDraw\n",
    "import face_recognition\n",
    "from face_recognition.face_recognition_cli import image_files_in_folder\n",
    "curd = os.getcwd()\n",
    "try:  \n",
    "    os.mkdir(\"{}/known_people\".format(curd))\n",
    "except:\n",
    "    pass\n",
    "try:  \n",
    "    os.mkdir(\"{}/models\".format(curd))\n",
    "except:\n",
    "    pass\n",
    "try:  \n",
    "    os.mkdir(\"{}/test\".format(curd))\n",
    "except:\n",
    "    pass\n",
    "try:  \n",
    "    os.mkdir(\"{}/unknown_pictures\".format(curd))\n",
    "except:\n",
    "    pass\n",
    "names=[]"
   ]
  },
  {
   "cell_type": "code",
   "execution_count": null,
   "metadata": {},
   "outputs": [],
   "source": [
    "ALLOWED_EXTENSIONS = {'png', 'jpg', 'jpeg'}"
   ]
  },
  {
   "cell_type": "code",
   "execution_count": null,
   "metadata": {},
   "outputs": [],
   "source": [
    "\n",
    "def predict(frame, knn_clf=None, model_path=None, distance_threshold=0.6):\n",
    "    \n",
    "\n",
    "    if knn_clf is None and model_path is None:\n",
    "        raise Exception(\"Must supply knn classifier either thourgh knn_clf or model_path\")\n",
    "\n",
    "    if knn_clf is None:\n",
    "        with open(model_path, 'rb') as f:\n",
    "            knn_clf = pickle.load(f)\n",
    "\n",
    "    \n",
    "   # X_img = face_recognition.load_image_file(X_img_path)\n",
    "    X_img = frame\n",
    "    X_face_locations = face_recognition.face_locations(X_img)\n",
    "\n",
    "    if len(X_face_locations) == 0:\n",
    "        return []\n",
    "\n",
    "    faces_encodings = face_recognition.face_encodings(X_img, known_face_locations=X_face_locations)\n",
    "\n",
    "    closest_distances = knn_clf.kneighbors(faces_encodings, n_neighbors=1)\n",
    "    are_matches = [closest_distances[0][i][0] <= distance_threshold for i in range(len(X_face_locations))]\n",
    "\n",
    "    return [(pred, loc) if rec else (\"unknown\", loc) for pred, loc, rec in zip(knn_clf.predict(faces_encodings), X_face_locations, are_matches)]\n",
    "\n"
   ]
  },
  {
   "cell_type": "markdown",
   "metadata": {},
   "source": [
    "### Generating test data with PhoneCam"
   ]
  },
  {
   "cell_type": "code",
   "execution_count": null,
   "metadata": {},
   "outputs": [],
   "source": [
    "#test Data Creator\n",
    "import cv2\n",
    "import numpy as np\n",
    "import time\n",
    "curd = os.getcwd()\n",
    "#name = input()\n",
    "url = \"http://10.4.58.83:8080/shot.jpg\"\n",
    "count=0\n",
    "while count<10:\n",
    "    curtime = time.strftime(\"%Y_%m_%d-%H_%M_%S\")\n",
    "    img_resp = requests.get(url)\n",
    "    img_arr = np.array(bytearray(img_resp.content),dtype = np.uint8)\n",
    "    frame = cv2.imdecode(img_arr,-1)\n",
    "    cv2.imwrite(\"{}/test/{}.jpg\".format(curd,curtime), frame)\n",
    "    count+=1\n",
    "    cv2.imshow('img',frame)\n",
    "    if cv2.waitKey(1) & 0xFF == ord('q'):\n",
    "        break\n",
    "    time.sleep(1)    \n",
    "\n",
    "\n",
    "    \n",
    "cv2.destroyAllWindows()"
   ]
  },
  {
   "cell_type": "markdown",
   "metadata": {},
   "source": [
    "### Generating test set with WebCam"
   ]
  },
  {
   "cell_type": "code",
   "execution_count": null,
   "metadata": {},
   "outputs": [],
   "source": [
    "#test Data Creator\n",
    "\n",
    "cap = cv2.VideoCapture(0)\n",
    "cap.set(cv2.CAP_PROP_FPS, 100)\n",
    "rat, frame = cap.read()\n",
    "count=0\n",
    "while count<10:\n",
    "    curtime = time.strftime(\"%Y_%m_%d-%H_%M_%S\")\n",
    "    rat, frame = cap.read()\n",
    "    cv2.imwrite(\"{}/test/{}.jpg\".format(curd,curtime), frame)\n",
    "    count+=1\n",
    "    cv2.imshow('img',frame)\n",
    "    if cv2.waitKey(1) & 0xFF == ord('q'):\n",
    "        break\n",
    "    time.sleep(1)    \n",
    "\n",
    "\n",
    "cap.release()    \n",
    "cv2.destroyAllWindows()"
   ]
  },
  {
   "cell_type": "code",
   "execution_count": null,
   "metadata": {},
   "outputs": [],
   "source": []
  }
 ],
 "metadata": {
  "kernelspec": {
   "display_name": "Python 3",
   "language": "python",
   "name": "python3"
  },
  "language_info": {
   "codemirror_mode": {
    "name": "ipython",
    "version": 3
   },
   "file_extension": ".py",
   "mimetype": "text/x-python",
   "name": "python",
   "nbconvert_exporter": "python",
   "pygments_lexer": "ipython3",
   "version": "3.6.4"
  }
 },
 "nbformat": 4,
 "nbformat_minor": 2
}
