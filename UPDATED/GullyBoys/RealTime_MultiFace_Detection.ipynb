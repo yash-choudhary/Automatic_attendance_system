{
 "cells": [
  {
   "cell_type": "code",
   "execution_count": null,
   "metadata": {},
   "outputs": [],
   "source": [
    "import cv2\n",
    "\n",
    "face_cascade = cv2.CascadeClassifier(\"lbpcascade_frontalface.xml\") # you can switch with haar too.\n",
    "\n",
    "cap = cv2.VideoCapture(0)   # creating VideoCapture Object with argument 0 as index for primary camera\n",
    "cap.set(cv2.CAP_PROP_FPS, 60)  # inspite of this, the detection will perform slower because of \n",
    "#rat, frame = cap.read()\n",
    "while(True):\n",
    "    rat, frame = cap.read()  \n",
    "    gray = cv2.cvtColor(frame, cv2.COLOR_BGR2GRAY)  # since openCV default is BGR and face detection works faster on grayscale image.\n",
    "\n",
    "    faces = face_cascade.detectMultiScale(gray, 1.1, 4) # image, scaling factor, neighbours.\n",
    "    \n",
    "    for (x,y,w,h) in faces:\n",
    "        cv2.rectangle(frame,(x,y),(x+w,y+h),(255,0,0),2)  # Drawing boundry boxes on each detected frame on each image.\n",
    "\n",
    "    cv2.imshow('img',frame)\n",
    "    if cv2.waitKey(1) & 0xFF == ord('q'):   # pressing q quits the program.\n",
    "        break\n",
    "\n",
    "\n",
    "cap.release()    \n",
    "cv2.destroyAllWindows()"
   ]
  },
  {
   "cell_type": "markdown",
   "metadata": {},
   "source": [
    "**cap.read()** returns a bool (True/False). If frame is read correctly, it will be True. So you can check end of the video by checking this return value.\n"
   ]
  }
 ],
 "metadata": {
  "kernelspec": {
   "display_name": "Python 3",
   "language": "python",
   "name": "python3"
  },
  "language_info": {
   "codemirror_mode": {
    "name": "ipython",
    "version": 3
   },
   "file_extension": ".py",
   "mimetype": "text/x-python",
   "name": "python",
   "nbconvert_exporter": "python",
   "pygments_lexer": "ipython3",
   "version": "3.6.4"
  }
 },
 "nbformat": 4,
 "nbformat_minor": 2
}
